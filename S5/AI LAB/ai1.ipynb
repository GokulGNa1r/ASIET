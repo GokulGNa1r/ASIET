{
 "cells": [
  {
   "cell_type": "code",
   "execution_count": 1,
   "id": "a70af8f2-26e4-4eca-a14e-c62d9cc5bf75",
   "metadata": {},
   "outputs": [
    {
     "name": "stdout",
     "output_type": "stream",
     "text": [
      "hello world\n",
      "welcome to python programming\n"
     ]
    }
   ],
   "source": [
    "print(\"hello world\")\n",
    "print(\"welcome to python programming\")"
   ]
  },
  {
   "cell_type": "code",
   "execution_count": 8,
   "id": "2bf2af94-b008-4698-b5f2-8b6e376919c6",
   "metadata": {},
   "outputs": [
    {
     "name": "stdout",
     "output_type": "stream",
     "text": [
      "<class 'int'>\n",
      "<class 'float'>\n",
      "<class 'str'>\n",
      "15.5\n",
      "pythonis fun\n"
     ]
    }
   ],
   "source": [
    "a=10\n",
    "b=5.5\n",
    "c=\"python\"\n",
    "print(type(a))\n",
    "print(type(b))\n",
    "print(type(c))\n",
    "\n",
    "print(a+b)  \n",
    "\n",
    "print(c + \"is fun\")\n",
    "\n"
   ]
  },
  {
   "cell_type": "code",
   "execution_count": 11,
   "id": "1a192e6a-4092-4205-8434-785c68560b51",
   "metadata": {},
   "outputs": [
    {
     "name": "stdin",
     "output_type": "stream",
     "text": [
      "enter a no: 6\n",
      "enter a no: 3\n"
     ]
    },
    {
     "name": "stdout",
     "output_type": "stream",
     "text": [
      "sum= 9\n",
      "diff= 3\n",
      "mul= 18\n",
      "div= 2.0\n",
      "floor div= 2\n",
      "modulo= 0\n",
      "expo= 216\n"
     ]
    }
   ],
   "source": [
    "a=int(input(\"enter a no:\"))\n",
    "b=int(input(\"enter a no:\"))\n",
    "print(\"sum=\",a+b)\n",
    "print(\"diff=\",a-b)\n",
    "print(\"mul=\",a*b)\n",
    "print(\"div=\",a/b)\n",
    "print(\"floor div=\",a//b)\n",
    "print(\"modulo=\",a%b)\n",
    "print(\"expo=\",a**b)\n",
    "    "
   ]
  },
  {
   "cell_type": "code",
   "execution_count": 12,
   "id": "e4542ca7-5697-4d89-8f5b-b9cae318ebc5",
   "metadata": {},
   "outputs": [
    {
     "name": "stdout",
     "output_type": "stream",
     "text": [
      "you can  go outside\n",
      "no need to carry an umbrella:\n"
     ]
    }
   ],
   "source": [
    "is_sunny= True\n",
    "have_umbrella= False\n",
    "if is_sunny or have_umbrella:\n",
    "    print(\"you can  go outside\")\n",
    "else:\n",
    "    print(\"you should stay inside\")\n",
    "if not is_sunny:\n",
    "    print(\"your should carry an umbrella\")\n",
    "else:\n",
    "    print(\"no need to carry an umbrella:\")\n"
   ]
  },
  {
   "cell_type": "code",
   "execution_count": 19,
   "id": "4c496f73-058c-4f4c-bf55-c748e207997a",
   "metadata": {},
   "outputs": [
    {
     "name": "stdin",
     "output_type": "stream",
     "text": [
      "enter a string: gokulgnair\n"
     ]
    },
    {
     "name": "stdout",
     "output_type": "stream",
     "text": [
      "10\n",
      "GOKULGNAIR\n",
      "gokulgnair\n",
      "gokulgnair\n",
      "not present\n"
     ]
    }
   ],
   "source": [
    "a=input(\"enter a string:\")\n",
    "char=len(a)\n",
    "print(char)\n",
    "uppercase=a.upper()\n",
    "lowercase=a.lower()\n",
    "print(uppercase)\n",
    "print(lowercase)\n",
    "newstring=a.replace(\" \",\"_\")\n",
    "print(newstring)\n",
    "word=\"python\"\n",
    "if word in a:\n",
    "    print(\"is present\")\n",
    "else:\n",
    "    print(\"not present\")"
   ]
  },
  {
   "cell_type": "code",
   "execution_count": 20,
   "id": "6cf3931d-20f9-4799-a974-a5ccd761bff7",
   "metadata": {},
   "outputs": [
    {
     "name": "stdin",
     "output_type": "stream",
     "text": [
      "enter a no: 4\n"
     ]
    },
    {
     "name": "stdout",
     "output_type": "stream",
     "text": [
      "+ve\n"
     ]
    }
   ],
   "source": [
    "a=int(input(\"enter a no:\"))\n",
    "if a>0:\n",
    "    print(\"+ve\")\n",
    "elif a==0:\n",
    "    print(\"no is 0\")\n",
    "else:\n",
    "    print(\"negative no:\")"
   ]
  },
  {
   "cell_type": "code",
   "execution_count": 21,
   "id": "3e93d378-ff1a-46d2-beb5-cc196dbb1722",
   "metadata": {},
   "outputs": [
    {
     "name": "stdin",
     "output_type": "stream",
     "text": [
      "enter your mark: 99\n"
     ]
    },
    {
     "name": "stdout",
     "output_type": "stream",
     "text": [
      "A\n"
     ]
    }
   ],
   "source": [
    "mark=int(input(\"enter your mark:\"))\n",
    "if mark>=90:\n",
    "    print(\"A\")\n",
    "elif mark>=75 and mark<=89:\n",
    "    print(\"B\")\n",
    "elif mark>=60 and mark<=74:\n",
    "    print(\"C\")\n",
    "elif mark>=40 and mark<=59:\n",
    "    print(\"D\")\n",
    "else:\n",
    "    print(\"FAIL\")\n"
   ]
  },
  {
   "cell_type": "code",
   "execution_count": 4,
   "id": "b2ae05f5-2961-458b-9b29-f19e1d91ec9d",
   "metadata": {},
   "outputs": [
    {
     "name": "stdin",
     "output_type": "stream",
     "text": [
      "enter 1st no: 6\n",
      "enter 2nd no: 3\n",
      "enter opr(+,-,*,/): /\n"
     ]
    },
    {
     "name": "stdout",
     "output_type": "stream",
     "text": [
      "2.0\n"
     ]
    }
   ],
   "source": [
    "a=int(input(\"enter 1st no:\"))\n",
    "b=int(input(\"enter 2nd no:\"))\n",
    "opr=input(\"enter opr(+,-,*,/):\")\n",
    "if opr=='+':\n",
    "    r=a+b\n",
    "    print(r)\n",
    "elif opr=='-':\n",
    "    t=a-b\n",
    "    print(t)\n",
    "elif opr=='*':\n",
    "    y=a*b\n",
    "    print(y)\n",
    "elif opr=='/':\n",
    "    if b!=0:\n",
    "        r=a/b\n",
    "        print(r)\n",
    "    else:\n",
    "        print(\"not poss\")\n",
    "else:\n",
    "    print(\"invalid opr\")"
   ]
  },
  {
   "cell_type": "code",
   "execution_count": null,
   "id": "ae97c5e5-43c1-4a5c-80bf-4375d7b3a4b8",
   "metadata": {},
   "outputs": [],
   "source": []
  }
 ],
 "metadata": {
  "kernelspec": {
   "display_name": "Python 3 (ipykernel)",
   "language": "python",
   "name": "python3"
  },
  "language_info": {
   "codemirror_mode": {
    "name": "ipython",
    "version": 3
   },
   "file_extension": ".py",
   "mimetype": "text/x-python",
   "name": "python",
   "nbconvert_exporter": "python",
   "pygments_lexer": "ipython3",
   "version": "3.10.12"
  }
 },
 "nbformat": 4,
 "nbformat_minor": 5
}
